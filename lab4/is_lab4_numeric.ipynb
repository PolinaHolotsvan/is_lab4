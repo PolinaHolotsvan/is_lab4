{
 "nbformat": 4,
 "nbformat_minor": 0,
 "metadata": {
  "colab": {
   "provenance": []
  },
  "kernelspec": {
   "name": "python3",
   "display_name": "Python 3 (ipykernel)",
   "language": "python"
  },
  "language_info": {
   "name": "python"
  }
 },
 "cells": [
  {
   "cell_type": "code",
   "source": [
    "variables = [f\"X{i}\" for i in range(1, 31)]\n",
    "domain = {var: list(range(1, 11)) for var in variables}"
   ],
   "metadata": {
    "id": "tOy9l47nxb1H",
    "ExecuteTime": {
     "end_time": "2024-11-25T10:10:37.822246Z",
     "start_time": "2024-11-25T10:10:37.802232Z"
    }
   },
   "outputs": [],
   "execution_count": 1
  },
  {
   "cell_type": "code",
   "source": [
    "def limit_domain(domain):\n",
    "    # Обмеження: змінні на парних позиціях мають парні значення\n",
    "    for var in variables:\n",
    "        if int(var[1:]) % 2 == 0:\n",
    "            domain[var] = list(range(2, 11, 2))\n",
    "\n",
    "    # Обмеження: X15 = 7\n",
    "    domain[\"X15\"] = [7]\n",
    "    return domain"
   ],
   "metadata": {
    "id": "kgs1FWzQxgG2",
    "ExecuteTime": {
     "end_time": "2024-11-25T10:10:37.838259Z",
     "start_time": "2024-11-25T10:10:37.824230Z"
    }
   },
   "outputs": [],
   "execution_count": 2
  },
  {
   "cell_type": "code",
   "source": [
    "domain = limit_domain(domain)\n",
    "domain"
   ],
   "metadata": {
    "colab": {
     "base_uri": "https://localhost:8080/"
    },
    "id": "JGuAbEayywWf",
    "outputId": "fbc8fd41-56f8-4d7b-bdb4-bef546c98327",
    "ExecuteTime": {
     "end_time": "2024-11-25T10:10:37.854250Z",
     "start_time": "2024-11-25T10:10:37.840228Z"
    }
   },
   "outputs": [
    {
     "data": {
      "text/plain": [
       "{'X1': [1, 2, 3, 4, 5, 6, 7, 8, 9, 10],\n",
       " 'X2': [2, 4, 6, 8, 10],\n",
       " 'X3': [1, 2, 3, 4, 5, 6, 7, 8, 9, 10],\n",
       " 'X4': [2, 4, 6, 8, 10],\n",
       " 'X5': [1, 2, 3, 4, 5, 6, 7, 8, 9, 10],\n",
       " 'X6': [2, 4, 6, 8, 10],\n",
       " 'X7': [1, 2, 3, 4, 5, 6, 7, 8, 9, 10],\n",
       " 'X8': [2, 4, 6, 8, 10],\n",
       " 'X9': [1, 2, 3, 4, 5, 6, 7, 8, 9, 10],\n",
       " 'X10': [2, 4, 6, 8, 10],\n",
       " 'X11': [1, 2, 3, 4, 5, 6, 7, 8, 9, 10],\n",
       " 'X12': [2, 4, 6, 8, 10],\n",
       " 'X13': [1, 2, 3, 4, 5, 6, 7, 8, 9, 10],\n",
       " 'X14': [2, 4, 6, 8, 10],\n",
       " 'X15': [7],\n",
       " 'X16': [2, 4, 6, 8, 10],\n",
       " 'X17': [1, 2, 3, 4, 5, 6, 7, 8, 9, 10],\n",
       " 'X18': [2, 4, 6, 8, 10],\n",
       " 'X19': [1, 2, 3, 4, 5, 6, 7, 8, 9, 10],\n",
       " 'X20': [2, 4, 6, 8, 10],\n",
       " 'X21': [1, 2, 3, 4, 5, 6, 7, 8, 9, 10],\n",
       " 'X22': [2, 4, 6, 8, 10],\n",
       " 'X23': [1, 2, 3, 4, 5, 6, 7, 8, 9, 10],\n",
       " 'X24': [2, 4, 6, 8, 10],\n",
       " 'X25': [1, 2, 3, 4, 5, 6, 7, 8, 9, 10],\n",
       " 'X26': [2, 4, 6, 8, 10],\n",
       " 'X27': [1, 2, 3, 4, 5, 6, 7, 8, 9, 10],\n",
       " 'X28': [2, 4, 6, 8, 10],\n",
       " 'X29': [1, 2, 3, 4, 5, 6, 7, 8, 9, 10],\n",
       " 'X30': [2, 4, 6, 8, 10]}"
      ]
     },
     "execution_count": 3,
     "metadata": {},
     "output_type": "execute_result"
    }
   ],
   "execution_count": 3
  },
  {
   "cell_type": "code",
   "source": [
    "class Constraint:\n",
    "    def __init__(self, variables, limit):\n",
    "        self.variables = variables\n",
    "        self.limit = limit\n",
    "\n",
    "    def __str__(self):\n",
    "        return f\"Variables: {self.variables}, limit rule: {self.limit.__name__}\\n\""
   ],
   "metadata": {
    "id": "_etEST8PrDex",
    "ExecuteTime": {
     "end_time": "2024-11-25T10:10:37.869252Z",
     "start_time": "2024-11-25T10:10:37.856232Z"
    }
   },
   "outputs": [],
   "execution_count": 4
  },
  {
   "metadata": {
    "ExecuteTime": {
     "end_time": "2024-11-25T10:10:37.884254Z",
     "start_time": "2024-11-25T10:10:37.871229Z"
    }
   },
   "cell_type": "code",
   "source": [
    "def variables_assigned(variables, assignment):\n",
    "    return all(var in assignment for var in variables)\n",
    "\n",
    "\n",
    "def sum_is_multiple_of_3(variables, assignment):\n",
    "    return sum(assignment[var] for var in variables) % 3 != 0\n",
    "\n",
    "\n",
    "def sum_is_15(variables, assignment):\n",
    "    return sum(assignment[var] for var in variables) == 15\n",
    "\n",
    "\n",
    "def is_strictly_increasing(variables, assignment):\n",
    "    prev_var, current_var, next_var, = variables\n",
    "    return assignment[prev_var] < assignment[current_var] < assignment[next_var]\n",
    "\n",
    "\n",
    "def is_distance_valid(variables, assignment):\n",
    "    prev_var, current_var = variables\n",
    "    return (abs(assignment[current_var] - assignment[prev_var]) > 6\n",
    "            or abs(assignment[current_var] - assignment[prev_var]) < 3)\n"
   ],
   "outputs": [],
   "execution_count": 5
  },
  {
   "metadata": {
    "ExecuteTime": {
     "end_time": "2024-11-25T10:10:37.900250Z",
     "start_time": "2024-11-25T10:10:37.887245Z"
    }
   },
   "cell_type": "code",
   "source": [
    "constraints = [\n",
    "    Constraint([\"X8\", \"X9\", \"X10\"], sum_is_multiple_of_3),\n",
    "    Constraint([\"X1\", \"X2\", \"X3\"], sum_is_15),\n",
    "    Constraint([\"X20\", \"X21\", \"X22\"], is_strictly_increasing)\n",
    "]"
   ],
   "outputs": [],
   "execution_count": 6
  },
  {
   "metadata": {
    "ExecuteTime": {
     "end_time": "2024-11-25T10:10:37.915303Z",
     "start_time": "2024-11-25T10:10:37.902239Z"
    }
   },
   "cell_type": "code",
   "source": [
    "for i in range(1, len(variables)):\n",
    "    dist_vars = variables[i - 1:i + 1]\n",
    "    constraints.append(Constraint(dist_vars, is_distance_valid))"
   ],
   "outputs": [],
   "execution_count": 7
  },
  {
   "metadata": {
    "ExecuteTime": {
     "end_time": "2024-11-25T10:10:37.931253Z",
     "start_time": "2024-11-25T10:10:37.918241Z"
    }
   },
   "cell_type": "code",
   "source": [
    "for constraint in constraints:\n",
    "    print(constraint)"
   ],
   "outputs": [
    {
     "name": "stdout",
     "output_type": "stream",
     "text": [
      "Variables: ['X8', 'X9', 'X10'], limit rule: sum_is_multiple_of_3\n",
      "\n",
      "Variables: ['X1', 'X2', 'X3'], limit rule: sum_is_15\n",
      "\n",
      "Variables: ['X20', 'X21', 'X22'], limit rule: is_strictly_increasing\n",
      "\n",
      "Variables: ['X1', 'X2'], limit rule: is_distance_valid\n",
      "\n",
      "Variables: ['X2', 'X3'], limit rule: is_distance_valid\n",
      "\n",
      "Variables: ['X3', 'X4'], limit rule: is_distance_valid\n",
      "\n",
      "Variables: ['X4', 'X5'], limit rule: is_distance_valid\n",
      "\n",
      "Variables: ['X5', 'X6'], limit rule: is_distance_valid\n",
      "\n",
      "Variables: ['X6', 'X7'], limit rule: is_distance_valid\n",
      "\n",
      "Variables: ['X7', 'X8'], limit rule: is_distance_valid\n",
      "\n",
      "Variables: ['X8', 'X9'], limit rule: is_distance_valid\n",
      "\n",
      "Variables: ['X9', 'X10'], limit rule: is_distance_valid\n",
      "\n",
      "Variables: ['X10', 'X11'], limit rule: is_distance_valid\n",
      "\n",
      "Variables: ['X11', 'X12'], limit rule: is_distance_valid\n",
      "\n",
      "Variables: ['X12', 'X13'], limit rule: is_distance_valid\n",
      "\n",
      "Variables: ['X13', 'X14'], limit rule: is_distance_valid\n",
      "\n",
      "Variables: ['X14', 'X15'], limit rule: is_distance_valid\n",
      "\n",
      "Variables: ['X15', 'X16'], limit rule: is_distance_valid\n",
      "\n",
      "Variables: ['X16', 'X17'], limit rule: is_distance_valid\n",
      "\n",
      "Variables: ['X17', 'X18'], limit rule: is_distance_valid\n",
      "\n",
      "Variables: ['X18', 'X19'], limit rule: is_distance_valid\n",
      "\n",
      "Variables: ['X19', 'X20'], limit rule: is_distance_valid\n",
      "\n",
      "Variables: ['X20', 'X21'], limit rule: is_distance_valid\n",
      "\n",
      "Variables: ['X21', 'X22'], limit rule: is_distance_valid\n",
      "\n",
      "Variables: ['X22', 'X23'], limit rule: is_distance_valid\n",
      "\n",
      "Variables: ['X23', 'X24'], limit rule: is_distance_valid\n",
      "\n",
      "Variables: ['X24', 'X25'], limit rule: is_distance_valid\n",
      "\n",
      "Variables: ['X25', 'X26'], limit rule: is_distance_valid\n",
      "\n",
      "Variables: ['X26', 'X27'], limit rule: is_distance_valid\n",
      "\n",
      "Variables: ['X27', 'X28'], limit rule: is_distance_valid\n",
      "\n",
      "Variables: ['X28', 'X29'], limit rule: is_distance_valid\n",
      "\n",
      "Variables: ['X29', 'X30'], limit rule: is_distance_valid\n",
      "\n"
     ]
    }
   ],
   "execution_count": 8
  },
  {
   "cell_type": "code",
   "metadata": {
    "colab": {
     "base_uri": "https://localhost:8080/"
    },
    "id": "x8BZsOj8-ZLA",
    "outputId": "bf7e7381-bb03-41f9-9781-293dc3f81bc7",
    "ExecuteTime": {
     "end_time": "2024-11-25T10:10:37.962250Z",
     "start_time": "2024-11-25T10:10:37.933240Z"
    }
   },
   "source": [
    "def is_consistent(var, value, assignment):\n",
    "    assignment[var] = value\n",
    "    result = True\n",
    "\n",
    "    for constraint in constraints:\n",
    "        if var in constraint.variables and variables_assigned(constraint.variables, assignment):\n",
    "            if not constraint.limit(constraint.variables, assignment):\n",
    "                result = False\n",
    "                break\n",
    "\n",
    "    del assignment[var]\n",
    "    return result\n",
    "\n",
    "\n",
    "# Евристики\n",
    "def minimum_remaining_values(domain, assignment):\n",
    "    \"\"\"Еристика з мінімальною кількістю решти значень (Minimum Remaining Values - MRV). \n",
    "    Для подальшого присвоєння буде обиратися змінна у якою в області визначення буде \n",
    "    мінімальна кількість можливих значень для присвоєння.\"\"\"\n",
    "\n",
    "    unassigned = [var for var in domain if var not in assignment]\n",
    "\n",
    "    min_var = None\n",
    "    min_count = float('inf')\n",
    "    for var in unassigned:\n",
    "        valid_values = [\n",
    "            value for value in domain[var]\n",
    "            if is_consistent(var, value, assignment)\n",
    "        ]\n",
    "        if len(valid_values) < min_count:\n",
    "            min_count = len(valid_values)\n",
    "            min_var = var\n",
    "\n",
    "    return min_var\n",
    "\n",
    "\n",
    "def degree_heuristic(domain, constraints, assignment):\n",
    "    \"\"\"Ступенева евристика (degree) Для подальшого присвоєння буде обиратися змінна яка \n",
    "    бере участь в найбільшій кількості обмежень на інші змінні \n",
    "    з неприсвоєнними значеннями. (Це як коеф. розгалудження у графі)\"\"\"\n",
    "\n",
    "    unassigned = [var for var in domain if var not in assignment]\n",
    "    max_lim_count = {var: 0 for var in unassigned}\n",
    "    for var in unassigned:\n",
    "        for constraint in constraints:\n",
    "            if var in constraint.variables and variables_assigned(constraint.variables, unassigned):\n",
    "                max_lim_count[var] += 1\n",
    "\n",
    "    return max(max_lim_count, key=max_lim_count.get)\n",
    "\n",
    "\n",
    "def least_constraining_value(var, domain, assignment):\n",
    "    \"\"\"Евристика з найменш обмежувальним значенням. У ній надається перевага значенню, \n",
    "    в якому з розгляду виключається найменша\n",
    "    кількість варіантів вибору значень для сусідніх змінних в графі обмежень.\"\"\"\n",
    "\n",
    "    def count_conflicts(value):\n",
    "        assignment[var] = value\n",
    "        conflicts = 0\n",
    "\n",
    "        idx = variables.index(var)\n",
    "        neighbors = []\n",
    "\n",
    "        if idx > 0:\n",
    "            neighbors.append(variables[idx - 1])\n",
    "\n",
    "        if idx < len(domain) - 1:\n",
    "            neighbors.append(variables[idx + 1])\n",
    "\n",
    "        for neighbor in neighbors:\n",
    "            if neighbor not in assignment:\n",
    "                if not any(is_consistent(neighbor, v, assignment) for v in domain[neighbor]):\n",
    "                    conflicts += 1\n",
    "        del assignment[var]\n",
    "        return conflicts\n",
    "\n",
    "    return sorted(domain[var], key=count_conflicts)\n",
    "\n",
    "\n",
    "def backtracking_search(domain):\n",
    "    \"\"\"Пошук з поверненням - це Пошук в глибину, в якому кожен раз вибираються значення для \n",
    "    однієї змінної і виконується повернення, якщо більше не залишається допустимих значень,\n",
    "    які можна було б присвоїти змінній.\"\"\"\n",
    "\n",
    "    assignment = {}\n",
    "\n",
    "    def backtrack():\n",
    "        if len(assignment) == len(variables):\n",
    "            return assignment\n",
    "\n",
    "        var = minimum_remaining_values(domain, assignment)\n",
    "        if not var:\n",
    "            return None\n",
    "\n",
    "        values = least_constraining_value(var, domain, assignment)\n",
    "        for value in values:\n",
    "            if is_consistent(var, value, assignment):\n",
    "                assignment[var] = value\n",
    "                result = backtrack()\n",
    "                if result:\n",
    "                    return result\n",
    "                del assignment[var]\n",
    "\n",
    "        return None\n",
    "\n",
    "    return backtrack()\n",
    "\n",
    "\n",
    "solution = backtracking_search(domain)\n",
    "if solution:\n",
    "    print(\"Знайдено розв'язок:\")\n",
    "    print(solution, \"\\n\")\n",
    "    print({k: v for k, v in sorted(solution.items(), key=lambda item: int(item[0][1:]))})\n",
    "else:\n",
    "    print(\"Розв'язок не знайдено.\")\n"
   ],
   "outputs": [
    {
     "name": "stdout",
     "output_type": "stream",
     "text": [
      "Знайдено розв'язок:\n",
      "{'X15': 7, 'X14': 6, 'X16': 6, 'X2': 2, 'X4': 2, 'X6': 2, 'X8': 2, 'X10': 2, 'X9': 1, 'X12': 2, 'X13': 4, 'X17': 4, 'X18': 2, 'X20': 2, 'X22': 4, 'X21': 3, 'X23': 2, 'X24': 2, 'X26': 2, 'X28': 2, 'X30': 2, 'X1': 3, 'X3': 10, 'X5': 1, 'X7': 1, 'X11': 1, 'X19': 1, 'X25': 1, 'X27': 1, 'X29': 1} \n",
      "\n",
      "{'X1': 3, 'X2': 2, 'X3': 10, 'X4': 2, 'X5': 1, 'X6': 2, 'X7': 1, 'X8': 2, 'X9': 1, 'X10': 2, 'X11': 1, 'X12': 2, 'X13': 4, 'X14': 6, 'X15': 7, 'X16': 6, 'X17': 4, 'X18': 2, 'X19': 1, 'X20': 2, 'X21': 3, 'X22': 4, 'X23': 2, 'X24': 2, 'X25': 1, 'X26': 2, 'X27': 1, 'X28': 2, 'X29': 1, 'X30': 2}\n"
     ]
    }
   ],
   "execution_count": 9
  }
 ]
}
